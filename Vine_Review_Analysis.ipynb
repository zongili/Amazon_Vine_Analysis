{
  "nbformat": 4,
  "nbformat_minor": 0,
  "metadata": {
    "colab": {
      "name": "Vine_Review_Analysis.ipynb",
      "provenance": [],
      "collapsed_sections": []
    },
    "kernelspec": {
      "name": "python3",
      "display_name": "Python 3"
    },
    "language_info": {
      "name": "python"
    }
  },
  "cells": [
    {
      "cell_type": "code",
      "execution_count": 51,
      "metadata": {
        "colab": {
          "base_uri": "https://localhost:8080/"
        },
        "id": "fR1K-qKWKor6",
        "outputId": "ed4a0c5f-b6d0-49cf-994c-fb91d1f0efab"
      },
      "outputs": [
        {
          "output_type": "stream",
          "name": "stdout",
          "text": [
            "\r0% [Working]\r            \rIgn:1 https://developer.download.nvidia.com/compute/cuda/repos/ubuntu1804/x86_64  InRelease\n",
            "\r0% [Connecting to archive.ubuntu.com] [Connecting to security.ubuntu.com (91.18\r                                                                               \rIgn:2 https://developer.download.nvidia.com/compute/machine-learning/repos/ubuntu1804/x86_64  InRelease\n",
            "\r0% [Connecting to archive.ubuntu.com] [Connecting to security.ubuntu.com (91.18\r                                                                               \rHit:3 https://developer.download.nvidia.com/compute/cuda/repos/ubuntu1804/x86_64  Release\n",
            "\r0% [Connecting to archive.ubuntu.com] [Connecting to security.ubuntu.com (91.18\r0% [Release.gpg gpgv 696 B] [Connecting to archive.ubuntu.com] [Connecting to s\r                                                                               \rHit:4 https://cloud.r-project.org/bin/linux/ubuntu bionic-cran40/ InRelease\n",
            "Hit:5 https://developer.download.nvidia.com/compute/machine-learning/repos/ubuntu1804/x86_64  Release\n",
            "Hit:6 http://ppa.launchpad.net/c2d4u.team/c2d4u4.0+/ubuntu bionic InRelease\n",
            "Get:7 http://security.ubuntu.com/ubuntu bionic-security InRelease [88.7 kB]\n",
            "Hit:9 http://archive.ubuntu.com/ubuntu bionic InRelease\n",
            "Hit:10 http://ppa.launchpad.net/cran/libgit2/ubuntu bionic InRelease\n",
            "Get:11 http://archive.ubuntu.com/ubuntu bionic-updates InRelease [88.7 kB]\n",
            "Hit:13 http://ppa.launchpad.net/deadsnakes/ppa/ubuntu bionic InRelease\n",
            "Get:14 http://archive.ubuntu.com/ubuntu bionic-backports InRelease [74.6 kB]\n",
            "Hit:15 http://ppa.launchpad.net/graphics-drivers/ppa/ubuntu bionic InRelease\n",
            "Fetched 252 kB in 2s (112 kB/s)\n",
            "Reading package lists... Done\n"
          ]
        }
      ],
      "source": [
        "import os\n",
        "# Find the latest version of spark 3.0 from http://www.apache.org/dist/spark/ and enter as the spark version\n",
        "# For example:\n",
        "# spark_version = 'spark-3.0.3'\n",
        "spark_version = 'spark-3.0.3'\n",
        "os.environ['SPARK_VERSION']=spark_version\n",
        "\n",
        "# Install Spark and Java\n",
        "!apt-get update\n",
        "!apt-get install openjdk-11-jdk-headless -qq > /dev/null\n",
        "!wget -q http://www.apache.org/dist/spark/$SPARK_VERSION/$SPARK_VERSION-bin-hadoop2.7.tgz\n",
        "!tar xf $SPARK_VERSION-bin-hadoop2.7.tgz\n",
        "!pip install -q findspark\n",
        "\n",
        "# Set Environment Variables\n",
        "import os\n",
        "os.environ[\"JAVA_HOME\"] = \"/usr/lib/jvm/java-11-openjdk-amd64\"\n",
        "os.environ[\"SPARK_HOME\"] = f\"/content/{spark_version}-bin-hadoop2.7\"\n",
        "\n",
        "# Start a SparkSession\n",
        "import findspark\n",
        "findspark.init()"
      ]
    },
    {
      "cell_type": "code",
      "source": [
        "# Download the Postgres driver that will allow Spark to interact with Postgres.\n",
        "!wget https://jdbc.postgresql.org/download/postgresql-42.2.16.jar"
      ],
      "metadata": {
        "colab": {
          "base_uri": "https://localhost:8080/"
        },
        "id": "HxpWUfX5LcxS",
        "outputId": "e8028f5b-d513-4011-c30a-362dafd9166c"
      },
      "execution_count": 52,
      "outputs": [
        {
          "output_type": "stream",
          "name": "stdout",
          "text": [
            "--2022-03-07 23:09:16--  https://jdbc.postgresql.org/download/postgresql-42.2.16.jar\n",
            "Resolving jdbc.postgresql.org (jdbc.postgresql.org)... 72.32.157.228, 2001:4800:3e1:1::228\n",
            "Connecting to jdbc.postgresql.org (jdbc.postgresql.org)|72.32.157.228|:443... connected.\n",
            "HTTP request sent, awaiting response... 200 OK\n",
            "Length: 1002883 (979K) [application/java-archive]\n",
            "Saving to: ‘postgresql-42.2.16.jar.1’\n",
            "\n",
            "postgresql-42.2.16. 100%[===================>] 979.38K  5.96MB/s    in 0.2s    \n",
            "\n",
            "2022-03-07 23:09:16 (5.96 MB/s) - ‘postgresql-42.2.16.jar.1’ saved [1002883/1002883]\n",
            "\n"
          ]
        }
      ]
    },
    {
      "cell_type": "code",
      "source": [
        "from pyspark.sql import SparkSession\n",
        "spark = SparkSession.builder.appName(\"Vine_Review-Challenge\").config(\"spark.driver.extraClassPath\",\"/content/postgresql-42.2.16.jar\").getOrCreate()"
      ],
      "metadata": {
        "id": "fcd23bRULg-J"
      },
      "execution_count": 53,
      "outputs": []
    },
    {
      "cell_type": "code",
      "source": [
        "# I'm using the pyspark to gain more experience instead of Panda or sql\n",
        "from pyspark import SparkFiles\n",
        "url = \"https://s3.amazonaws.com/amazon-reviews-pds/tsv/amazon_reviews_us_Jewelry_v1_00.tsv.gz\"\n",
        "spark.sparkContext.addFile(url)\n",
        "df = spark.read.option(\"encoding\", \"UTF-8\").csv(SparkFiles.get(\"\"), sep=\"\\t\", header=True, inferSchema=True)\n",
        "df.show()"
      ],
      "metadata": {
        "colab": {
          "base_uri": "https://localhost:8080/"
        },
        "id": "FXDtam9xaXkm",
        "outputId": "19631a1f-8503-43a6-b409-a8666af001e5"
      },
      "execution_count": 54,
      "outputs": [
        {
          "output_type": "stream",
          "name": "stdout",
          "text": [
            "+-----------+-----------+--------------+----------+--------------+--------------------+----------------+-----------+-------------+-----------+----+-----------------+--------------------+--------------------+-----------+\n",
            "|marketplace|customer_id|     review_id|product_id|product_parent|       product_title|product_category|star_rating|helpful_votes|total_votes|vine|verified_purchase|     review_headline|         review_body|review_date|\n",
            "+-----------+-----------+--------------+----------+--------------+--------------------+----------------+-----------+-------------+-----------+----+-----------------+--------------------+--------------------+-----------+\n",
            "|         US|   50423057|R135Q3VZ4DQN5N|B00JWXFDMG|     657335467|Everbling Purple ...|         Jewelry|          5|            0|          0|   N|                Y|           Beauties!|so beautiful even...| 2015-08-31|\n",
            "|         US|   11262325|R2N0QQ6R4T7YRY|B00W5T1H9W|      26030170|925 Sterling Silv...|         Jewelry|          5|            0|          0|   N|                N|      Great product.|Great product.. I...| 2015-08-31|\n",
            "|         US|   27541121|R3N5JE5Y4T6W5M|B00M2L6KFY|     697845240|Sterling Silver C...|         Jewelry|          5|            0|          0|   N|                Y|Exactly as pictur...|Exactly as pictur...| 2015-08-31|\n",
            "|         US|    5350721|R2I150CX5IVY9Q|B0006SW2WU|     569859289|Surgical Stainles...|         Jewelry|          5|            0|          0|   N|                Y|          Five Stars|Love it. Fits gre...| 2015-08-31|\n",
            "|         US|   24484424|R1RM9ICOOA9MQ3|B009YPDW70|     332947422|Sterling Silver F...|         Jewelry|          5|            0|          0|   N|                Y|... a Mother's Da...|Got this as a Mot...| 2015-08-31|\n",
            "|         US|     457767|R2J2KMDL10UMSH|B00QGA8XZM|     424804582|CHOOSE YOUR COLOR...|         Jewelry|          5|            0|          0|   N|                Y|          Five Stars|I Love It Make Me...| 2015-08-31|\n",
            "|         US|   31009358|R3R9ZUFA4TB4FQ|B00L0N0E8E|     589441783|Metal Factory 925...|         Jewelry|          5|            0|          0|   N|                Y|          Five Stars|True to size, unique| 2015-08-31|\n",
            "|         US|    7034628|R3UQ8VAQN7R6WL|B00DMWQKWA|     517428445|niceEshop(TM)Clas...|         Jewelry|          5|            0|          0|   N|                Y|          Five Stars|This necklace is ...| 2015-08-31|\n",
            "|         US|   34608636|R1FXZ69C01JNQM|B00THLHAGA|     320313750|Genuine Natural B...|         Jewelry|          5|            0|          0|   N|                Y|          Five Stars|        just perfect| 2015-08-31|\n",
            "|         US|   44972687| RY36LB4OW0FFS|B00UXSEOHY|     589365488|MBOX Expandable A...|         Jewelry|          5|            0|          0|   N|                Y|          Five Stars|           Love it !| 2015-08-31|\n",
            "|         US|   16684508| R6PKS54PC6ZY2|B00XGRYGVS|     217045013|Set of 3 Nose Rin...|         Jewelry|          1|            4|          4|   N|                Y|I had high hopes ...|They didn't even ...| 2015-08-31|\n",
            "|         US|   23493178|R1LYSAH0IECVWB|B00AJ2VU8A|     972853757|3-row White A Gra...|         Jewelry|          5|            0|          0|   N|                Y|This is a real ni...|This is a real ni...| 2015-08-31|\n",
            "|         US|     108294|R1UN0IZI3XQ3E2|B00LE5Y100|     979375701|KONOV Mens Stainl...|         Jewelry|          5|            2|          3|   N|                Y|             AMAZING|This is a very co...| 2015-08-31|\n",
            "|         US|   25810742| RIKDXD8QGL99S|B013E0AOH6|     619592796|TEMEGO Jewelry Me...|         Jewelry|          5|            1|          1|   N|                Y|          Five Stars|Great quality for...| 2015-08-31|\n",
            "|         US|   12037665| RUZCQTXZVGUFH|B00XAWUP96|     783863439|Royal Blue/White ...|         Jewelry|          4|            1|          1|   N|                Y|A Little Smaller ...|I like the bracel...| 2015-08-31|\n",
            "|         US|   51793466|R35CD4IHO3RP9H|B00WD82F1O|     655270378|10-11mm Baroque F...|         Jewelry|          5|            1|          1|   N|                Y|Pretty and Versatile|This is pretty an...| 2015-08-31|\n",
            "|         US|     127508|R13YD66XC9221U|B00JP4XCSO|     592155747|Sankuwen® Fashion...|         Jewelry|          1|            0|          0|   N|                N|Don't get this li...|Don't get this li...| 2015-08-31|\n",
            "|         US|   38430946| RHWG4JRVDSEYY|B00PZSM384|     622179716|zjskin6688 store ...|         Jewelry|          3|            1|          1|   N|                Y|         Three Stars|Not what I expect...| 2015-08-31|\n",
            "|         US|   33684654|R3SPIKMJ5IWHX8|B00VLMW18K|      36759824|Scheppend Polymer...|         Jewelry|          4|            0|          0|   N|                Y|          Four Stars|Bought these for ...| 2015-08-31|\n",
            "|         US|    5068631| RS19ACU7KWWNE|B00U5LDBB4|     575109200|Horizontal Sidewa...|         Jewelry|          5|            1|          1|   N|                Y|          Five Stars|Pretty, and very ...| 2015-08-31|\n",
            "+-----------+-----------+--------------+----------+--------------+--------------------+----------------+-----------+-------------+-----------+----+-----------------+--------------------+--------------------+-----------+\n",
            "only showing top 20 rows\n",
            "\n"
          ]
        }
      ]
    },
    {
      "cell_type": "code",
      "source": [
        "df.printSchema()"
      ],
      "metadata": {
        "colab": {
          "base_uri": "https://localhost:8080/"
        },
        "id": "E3cfKEc4aaDr",
        "outputId": "15b10dc0-911d-4b22-bad8-bff0e353f067"
      },
      "execution_count": 55,
      "outputs": [
        {
          "output_type": "stream",
          "name": "stdout",
          "text": [
            "root\n",
            " |-- marketplace: string (nullable = true)\n",
            " |-- customer_id: integer (nullable = true)\n",
            " |-- review_id: string (nullable = true)\n",
            " |-- product_id: string (nullable = true)\n",
            " |-- product_parent: integer (nullable = true)\n",
            " |-- product_title: string (nullable = true)\n",
            " |-- product_category: string (nullable = true)\n",
            " |-- star_rating: string (nullable = true)\n",
            " |-- helpful_votes: integer (nullable = true)\n",
            " |-- total_votes: integer (nullable = true)\n",
            " |-- vine: string (nullable = true)\n",
            " |-- verified_purchase: string (nullable = true)\n",
            " |-- review_headline: string (nullable = true)\n",
            " |-- review_body: string (nullable = true)\n",
            " |-- review_date: string (nullable = true)\n",
            "\n"
          ]
        }
      ]
    },
    {
      "cell_type": "code",
      "source": [
        "#remove null data\n",
        "print(df.count())\n",
        "df =df.dropna();\n",
        "print(df.count())"
      ],
      "metadata": {
        "colab": {
          "base_uri": "https://localhost:8080/"
        },
        "id": "UsSvH01rMBCx",
        "outputId": "55472904-915a-404d-9417-007754184571"
      },
      "execution_count": 56,
      "outputs": [
        {
          "output_type": "stream",
          "name": "stdout",
          "text": [
            "1767753\n"
          ]
        }
      ]
    },
    {
      "cell_type": "code",
      "source": [
        "from typing import cast\n",
        "# Create the vine_table. DataFrame\n",
        "from pyspark.sql.types import IntegerType\n",
        "vine_df = df.select([\"review_id\",\"star_rating\",\"helpful_votes\",\"total_votes\",\"vine\",\"verified_purchase\"])\n",
        "#convert to integer type bec star_rating was a text in df but int in pgAdmin table definition\n",
        "vine_df = vine_df.withColumn(\"star_rating\",vine_df[\"star_rating\"].cast(IntegerType()))\n",
        "vine_df.show(truncate=False)"
      ],
      "metadata": {
        "colab": {
          "base_uri": "https://localhost:8080/"
        },
        "id": "n9LyOIuJakZo",
        "outputId": "cf51e0ee-f139-434f-f53f-df8172a717f3"
      },
      "execution_count": 57,
      "outputs": [
        {
          "output_type": "stream",
          "name": "stdout",
          "text": [
            "+--------------+-----------+-------------+-----------+----+-----------------+\n",
            "|review_id     |star_rating|helpful_votes|total_votes|vine|verified_purchase|\n",
            "+--------------+-----------+-------------+-----------+----+-----------------+\n",
            "|R135Q3VZ4DQN5N|5          |0            |0          |N   |Y                |\n",
            "|R2N0QQ6R4T7YRY|5          |0            |0          |N   |N                |\n",
            "|R3N5JE5Y4T6W5M|5          |0            |0          |N   |Y                |\n",
            "|R2I150CX5IVY9Q|5          |0            |0          |N   |Y                |\n",
            "|R1RM9ICOOA9MQ3|5          |0            |0          |N   |Y                |\n",
            "|R2J2KMDL10UMSH|5          |0            |0          |N   |Y                |\n",
            "|R3R9ZUFA4TB4FQ|5          |0            |0          |N   |Y                |\n",
            "|R3UQ8VAQN7R6WL|5          |0            |0          |N   |Y                |\n",
            "|R1FXZ69C01JNQM|5          |0            |0          |N   |Y                |\n",
            "|RY36LB4OW0FFS |5          |0            |0          |N   |Y                |\n",
            "|R6PKS54PC6ZY2 |1          |4            |4          |N   |Y                |\n",
            "|R1LYSAH0IECVWB|5          |0            |0          |N   |Y                |\n",
            "|R1UN0IZI3XQ3E2|5          |2            |3          |N   |Y                |\n",
            "|RIKDXD8QGL99S |5          |1            |1          |N   |Y                |\n",
            "|RUZCQTXZVGUFH |4          |1            |1          |N   |Y                |\n",
            "|R35CD4IHO3RP9H|5          |1            |1          |N   |Y                |\n",
            "|R13YD66XC9221U|1          |0            |0          |N   |N                |\n",
            "|RHWG4JRVDSEYY |3          |1            |1          |N   |Y                |\n",
            "|R3SPIKMJ5IWHX8|4          |0            |0          |N   |Y                |\n",
            "|RS19ACU7KWWNE |5          |1            |1          |N   |Y                |\n",
            "+--------------+-----------+-------------+-----------+----+-----------------+\n",
            "only showing top 20 rows\n",
            "\n"
          ]
        }
      ]
    },
    {
      "cell_type": "code",
      "source": [
        "vine_df.printSchema()"
      ],
      "metadata": {
        "colab": {
          "base_uri": "https://localhost:8080/"
        },
        "id": "cNqhaB60bDeB",
        "outputId": "a1edea7f-b656-408f-bad4-8ee5e3f92409"
      },
      "execution_count": 58,
      "outputs": [
        {
          "output_type": "stream",
          "name": "stdout",
          "text": [
            "root\n",
            " |-- review_id: string (nullable = true)\n",
            " |-- star_rating: integer (nullable = true)\n",
            " |-- helpful_votes: integer (nullable = true)\n",
            " |-- total_votes: integer (nullable = true)\n",
            " |-- vine: string (nullable = true)\n",
            " |-- verified_purchase: string (nullable = true)\n",
            "\n"
          ]
        }
      ]
    },
    {
      "cell_type": "code",
      "source": [
        "#1. Filter the data and create a new DataFrame or table to retrieve all the rows where the total_votes count \n",
        "# is equal to or greater than 20 to pick reviews that are more likely to be helpful and \n",
        "#to avoid having division by zero errors later on\n",
        "filtered_df = vine_df.filter('total_votes>=20')\n",
        "filtered_df.show()\n"
      ],
      "metadata": {
        "colab": {
          "base_uri": "https://localhost:8080/"
        },
        "id": "dOTA14tSbMjQ",
        "outputId": "bc76cdbb-be90-4389-87e6-8246b2fef1d3"
      },
      "execution_count": 59,
      "outputs": [
        {
          "output_type": "stream",
          "name": "stdout",
          "text": [
            "+--------------+-----------+-------------+-----------+----+-----------------+\n",
            "|     review_id|star_rating|helpful_votes|total_votes|vine|verified_purchase|\n",
            "+--------------+-----------+-------------+-----------+----+-----------------+\n",
            "|R16YC6SMGKA8SR|          5|           23|         23|   N|                Y|\n",
            "| R5O4WE9UM60B0|          1|           29|         29|   N|                Y|\n",
            "|R2EKRVCRC7U0IY|          1|           22|         24|   N|                Y|\n",
            "|R2OKV47GETH0L7|          5|           24|         24|   N|                Y|\n",
            "| R36LII9IITE17|          1|           22|         24|   N|                Y|\n",
            "|R35VKNE16PFY0H|          5|           22|         24|   N|                N|\n",
            "|R3TG008LHHZZIN|          5|          123|        125|   N|                Y|\n",
            "|R2FYQBKCC1XG4M|          5|           20|         20|   N|                Y|\n",
            "| R63PV336NI5X7|          1|           27|         28|   N|                Y|\n",
            "|R1R42WPHB5ZSWI|          5|           51|         52|   N|                Y|\n",
            "| RXSS0QZJE1TEO|          1|           35|         35|   N|                Y|\n",
            "| RGS9C5XKWVYP9|          1|           24|         24|   N|                Y|\n",
            "|R3R5BWMKH1EUIQ|          5|           26|         27|   N|                N|\n",
            "|R2KBDT7RGO1G86|          3|           33|         39|   N|                Y|\n",
            "|R2WA09RFYT69GB|          5|           21|         22|   N|                Y|\n",
            "| RYNTUAMCHU3W4|          5|           22|         22|   N|                Y|\n",
            "|R3U5NCDM6NLHLC|          5|           29|         30|   N|                Y|\n",
            "| R8708W8U0Z89A|          2|           37|         38|   N|                Y|\n",
            "| RFT7R66D3SA54|          5|           23|         24|   N|                Y|\n",
            "|R1OI5TTOS49U8R|          5|           33|         34|   N|                Y|\n",
            "+--------------+-----------+-------------+-----------+----+-----------------+\n",
            "only showing top 20 rows\n",
            "\n"
          ]
        }
      ]
    },
    {
      "cell_type": "code",
      "source": [
        "#2.Filter the new DataFrame or table created in Step 1 and create a new DataFrame or table to retrieve \n",
        "#all the rows where the number of helpful_votes divided by total_votes is equal to or greater than 50%\n",
        "helpful_votes_df = filtered_df.withColumn('greater_than_50_votes', filtered_df['helpful_votes'] / filtered_df['total_votes']).filter('greater_than_50_votes >= 0.5')\n",
        "helpful_votes_df.show()\n"
      ],
      "metadata": {
        "colab": {
          "base_uri": "https://localhost:8080/"
        },
        "id": "e0oeI34GcDBC",
        "outputId": "ccad308f-ce4e-4464-8cc1-c0e74f2c9f36"
      },
      "execution_count": 60,
      "outputs": [
        {
          "output_type": "stream",
          "name": "stdout",
          "text": [
            "+--------------+-----------+-------------+-----------+----+-----------------+---------------------+\n",
            "|     review_id|star_rating|helpful_votes|total_votes|vine|verified_purchase|greater_than_50_votes|\n",
            "+--------------+-----------+-------------+-----------+----+-----------------+---------------------+\n",
            "|R16YC6SMGKA8SR|          5|           23|         23|   N|                Y|                  1.0|\n",
            "| R5O4WE9UM60B0|          1|           29|         29|   N|                Y|                  1.0|\n",
            "|R2EKRVCRC7U0IY|          1|           22|         24|   N|                Y|   0.9166666666666666|\n",
            "|R2OKV47GETH0L7|          5|           24|         24|   N|                Y|                  1.0|\n",
            "| R36LII9IITE17|          1|           22|         24|   N|                Y|   0.9166666666666666|\n",
            "|R35VKNE16PFY0H|          5|           22|         24|   N|                N|   0.9166666666666666|\n",
            "|R3TG008LHHZZIN|          5|          123|        125|   N|                Y|                0.984|\n",
            "|R2FYQBKCC1XG4M|          5|           20|         20|   N|                Y|                  1.0|\n",
            "| R63PV336NI5X7|          1|           27|         28|   N|                Y|   0.9642857142857143|\n",
            "|R1R42WPHB5ZSWI|          5|           51|         52|   N|                Y|   0.9807692307692307|\n",
            "| RXSS0QZJE1TEO|          1|           35|         35|   N|                Y|                  1.0|\n",
            "| RGS9C5XKWVYP9|          1|           24|         24|   N|                Y|                  1.0|\n",
            "|R3R5BWMKH1EUIQ|          5|           26|         27|   N|                N|   0.9629629629629629|\n",
            "|R2KBDT7RGO1G86|          3|           33|         39|   N|                Y|   0.8461538461538461|\n",
            "|R2WA09RFYT69GB|          5|           21|         22|   N|                Y|   0.9545454545454546|\n",
            "| RYNTUAMCHU3W4|          5|           22|         22|   N|                Y|                  1.0|\n",
            "|R3U5NCDM6NLHLC|          5|           29|         30|   N|                Y|   0.9666666666666667|\n",
            "| R8708W8U0Z89A|          2|           37|         38|   N|                Y|   0.9736842105263158|\n",
            "| RFT7R66D3SA54|          5|           23|         24|   N|                Y|   0.9583333333333334|\n",
            "|R1OI5TTOS49U8R|          5|           33|         34|   N|                Y|   0.9705882352941176|\n",
            "+--------------+-----------+-------------+-----------+----+-----------------+---------------------+\n",
            "only showing top 20 rows\n",
            "\n"
          ]
        }
      ]
    },
    {
      "cell_type": "code",
      "source": [
        "#3.Filter the DataFrame or table created in Step 2, and create a new DataFrame or table that retrieves \n",
        "#all the rows where a review was written as part of the Vine program (paid), vine == 'Y'\n",
        "paid_vine_df = helpful_votes_df.filter(helpful_votes_df['vine'] == 'Y')\n",
        "paid_vine_df.show()\n"
      ],
      "metadata": {
        "colab": {
          "base_uri": "https://localhost:8080/"
        },
        "id": "COixG7cPdL_T",
        "outputId": "9e938bb8-4043-4b00-f2fc-97a2f6ec74c1"
      },
      "execution_count": 61,
      "outputs": [
        {
          "output_type": "stream",
          "name": "stdout",
          "text": [
            "+--------------+-----------+-------------+-----------+----+-----------------+---------------------+\n",
            "|     review_id|star_rating|helpful_votes|total_votes|vine|verified_purchase|greater_than_50_votes|\n",
            "+--------------+-----------+-------------+-----------+----+-----------------+---------------------+\n",
            "|R15PXA9XU9ZKSU|          4|           29|         29|   Y|                N|                  1.0|\n",
            "|R2LJ4QYQ4PYDEH|          5|           24|         26|   Y|                N|   0.9230769230769231|\n",
            "|R2PJWWQZ37WCIC|          5|           95|         96|   Y|                N|   0.9895833333333334|\n",
            "|R33G2VDKRN2USY|          5|           21|         21|   Y|                N|                  1.0|\n",
            "|R13R4X37T2U50A|          4|           52|         57|   Y|                N|   0.9122807017543859|\n",
            "|R1X1J2NAQ39DF6|          4|           29|         34|   Y|                N|   0.8529411764705882|\n",
            "|R2UV5XHFNMPXOX|          5|           60|         61|   Y|                N|   0.9836065573770492|\n",
            "|R31V08BCC9X3MF|          5|           18|         22|   Y|                N|   0.8181818181818182|\n",
            "|R2G00QWTYW9N2G|          5|           86|         91|   Y|                N|    0.945054945054945|\n",
            "| RL8H3NKKP989J|          5|           30|         34|   Y|                N|   0.8823529411764706|\n",
            "| RZ65QBOJ8ZNRN|          4|           19|         22|   Y|                N|   0.8636363636363636|\n",
            "| RDZBWH5MFEQY1|          5|           18|         22|   Y|                N|   0.8181818181818182|\n",
            "|R24SU7KP57HE8L|          4|           25|         26|   Y|                N|   0.9615384615384616|\n",
            "| RV3V9VIC29R8S|          2|           66|         68|   Y|                N|   0.9705882352941176|\n",
            "|R31AR3XSFSHY1B|          4|           33|         35|   Y|                N|   0.9428571428571428|\n",
            "|R3VWAKQ4JXGE55|          5|           33|         34|   Y|                N|   0.9705882352941176|\n",
            "| RNZ2BP0EHN7IK|          5|           20|         20|   Y|                N|                  1.0|\n",
            "| RXKITVQ3MN3PS|          4|           22|         23|   Y|                N|   0.9565217391304348|\n",
            "|R3TZE1OYDVZPRD|          5|           23|         24|   Y|                N|   0.9583333333333334|\n",
            "|R3FO353G2ET17M|          4|           23|         24|   Y|                N|   0.9583333333333334|\n",
            "+--------------+-----------+-------------+-----------+----+-----------------+---------------------+\n",
            "only showing top 20 rows\n",
            "\n"
          ]
        }
      ]
    },
    {
      "cell_type": "code",
      "source": [
        "#4. Repeat Step 3, but this time retrieve all the rows where the review was not part of the Vine program (unpaid), vine == 'N'\n",
        "unpaid_vine_df = helpful_votes_df.filter(helpful_votes_df['vine'] == 'N')\n",
        "unpaid_vine_df.show()\n"
      ],
      "metadata": {
        "colab": {
          "base_uri": "https://localhost:8080/"
        },
        "id": "LZ5F4CaaefEc",
        "outputId": "7881bdaf-e94c-4dfe-cbe6-6fa1bfc97514"
      },
      "execution_count": 62,
      "outputs": [
        {
          "output_type": "stream",
          "name": "stdout",
          "text": [
            "+--------------+-----------+-------------+-----------+----+-----------------+---------------------+\n",
            "|     review_id|star_rating|helpful_votes|total_votes|vine|verified_purchase|greater_than_50_votes|\n",
            "+--------------+-----------+-------------+-----------+----+-----------------+---------------------+\n",
            "|R16YC6SMGKA8SR|          5|           23|         23|   N|                Y|                  1.0|\n",
            "| R5O4WE9UM60B0|          1|           29|         29|   N|                Y|                  1.0|\n",
            "|R2EKRVCRC7U0IY|          1|           22|         24|   N|                Y|   0.9166666666666666|\n",
            "|R2OKV47GETH0L7|          5|           24|         24|   N|                Y|                  1.0|\n",
            "| R36LII9IITE17|          1|           22|         24|   N|                Y|   0.9166666666666666|\n",
            "|R35VKNE16PFY0H|          5|           22|         24|   N|                N|   0.9166666666666666|\n",
            "|R3TG008LHHZZIN|          5|          123|        125|   N|                Y|                0.984|\n",
            "|R2FYQBKCC1XG4M|          5|           20|         20|   N|                Y|                  1.0|\n",
            "| R63PV336NI5X7|          1|           27|         28|   N|                Y|   0.9642857142857143|\n",
            "|R1R42WPHB5ZSWI|          5|           51|         52|   N|                Y|   0.9807692307692307|\n",
            "| RXSS0QZJE1TEO|          1|           35|         35|   N|                Y|                  1.0|\n",
            "| RGS9C5XKWVYP9|          1|           24|         24|   N|                Y|                  1.0|\n",
            "|R3R5BWMKH1EUIQ|          5|           26|         27|   N|                N|   0.9629629629629629|\n",
            "|R2KBDT7RGO1G86|          3|           33|         39|   N|                Y|   0.8461538461538461|\n",
            "|R2WA09RFYT69GB|          5|           21|         22|   N|                Y|   0.9545454545454546|\n",
            "| RYNTUAMCHU3W4|          5|           22|         22|   N|                Y|                  1.0|\n",
            "|R3U5NCDM6NLHLC|          5|           29|         30|   N|                Y|   0.9666666666666667|\n",
            "| R8708W8U0Z89A|          2|           37|         38|   N|                Y|   0.9736842105263158|\n",
            "| RFT7R66D3SA54|          5|           23|         24|   N|                Y|   0.9583333333333334|\n",
            "|R1OI5TTOS49U8R|          5|           33|         34|   N|                Y|   0.9705882352941176|\n",
            "+--------------+-----------+-------------+-----------+----+-----------------+---------------------+\n",
            "only showing top 20 rows\n",
            "\n"
          ]
        }
      ]
    },
    {
      "cell_type": "code",
      "source": [
        "#5. Determine the total number of reviews, the number of 5-star reviews, and the percentage \n",
        "# of 5-star reviews for the two types of review (paid vs unpaid)\n",
        "# paid total\n",
        "paid_total_num_of_review = paid_vine_df.agg({'review_id':'count'}).withColumnRenamed(\"count(review_id)\", \"Paid_Total_NumOf_Vine_Reviews\")\n",
        "paid_total_num_of_review.show()\n"
      ],
      "metadata": {
        "colab": {
          "base_uri": "https://localhost:8080/"
        },
        "id": "5E7QSVlMezqK",
        "outputId": "88e0f87b-b6cf-483b-d085-0a39cca6ebae"
      },
      "execution_count": 63,
      "outputs": [
        {
          "output_type": "stream",
          "name": "stdout",
          "text": [
            "+-----------------------------+\n",
            "|Paid_Total_NumOf_Vine_Reviews|\n",
            "+-----------------------------+\n",
            "|                           21|\n",
            "+-----------------------------+\n",
            "\n"
          ]
        }
      ]
    },
    {
      "cell_type": "code",
      "source": [
        "#continue 5... number of 5 star reviews - paid\n",
        "paid_numof_5star_reviews = paid_vine_df.filter('star_rating == 5').agg({'star_rating':'count'}).withColumnRenamed(\"count(star_rating)\", \"Paid_5star_NumOf_Vine_Reviews\")\n",
        "paid_numof_5star_reviews.show()"
      ],
      "metadata": {
        "colab": {
          "base_uri": "https://localhost:8080/"
        },
        "id": "DUrk6JDtfvdm",
        "outputId": "e825a978-978c-40da-a3cd-7aecbfb40477"
      },
      "execution_count": 64,
      "outputs": [
        {
          "output_type": "stream",
          "name": "stdout",
          "text": [
            "+-----------------------------+\n",
            "|Paid_5star_NumOf_Vine_Reviews|\n",
            "+-----------------------------+\n",
            "|                           11|\n",
            "+-----------------------------+\n",
            "\n"
          ]
        }
      ]
    },
    {
      "cell_type": "code",
      "source": [
        "#continue 5 ... the percentage of 5-star reviews - paid\n",
        "paid_vine_reviews_percentage = paid_numof_5star_reviews.collect()[0][\"Paid_5star_NumOf_Vine_Reviews\"] / paid_total_num_of_review.collect()[0][\"Paid_Total_NumOf_Vine_Reviews\"] * 100\n",
        "round(paid_vine_reviews_percentage,3)\n",
        "\n"
      ],
      "metadata": {
        "colab": {
          "base_uri": "https://localhost:8080/"
        },
        "id": "ck9z5dOsfv9G",
        "outputId": "fa78bf12-db51-4fe9-c472-4f17174f3e43"
      },
      "execution_count": 69,
      "outputs": [
        {
          "output_type": "execute_result",
          "data": {
            "text/plain": [
              "52.381"
            ]
          },
          "metadata": {},
          "execution_count": 69
        }
      ]
    },
    {
      "cell_type": "code",
      "source": [
        "# continue 5... unpaid total\n",
        "unpaid_total_num_of_review = unpaid_vine_df.agg({'review_id':'count'}).withColumnRenamed(\"count(review_id)\", \"Unpaid_Total_NumOf_Vine_Reviews\")\n",
        "unpaid_total_num_of_review.show()\n"
      ],
      "metadata": {
        "colab": {
          "base_uri": "https://localhost:8080/"
        },
        "id": "cK-HijaylItx",
        "outputId": "39d6f1b9-d0b0-437a-e7a9-014d611d3565"
      },
      "execution_count": 66,
      "outputs": [
        {
          "output_type": "stream",
          "name": "stdout",
          "text": [
            "+-------------------------------+\n",
            "|Unpaid_Total_NumOf_Vine_Reviews|\n",
            "+-------------------------------+\n",
            "|                           7689|\n",
            "+-------------------------------+\n",
            "\n"
          ]
        }
      ]
    },
    {
      "cell_type": "code",
      "source": [
        "#continue 5... number of 5 star reviews - unpaid\n",
        "unpaid_numof_5star_reviews = unpaid_vine_df.filter('star_rating == 5').agg({'star_rating':'count'}).withColumnRenamed(\"count(star_rating)\", \"Unpaid_5star_NumOf_Vine_Reviews\")\n",
        "unpaid_numof_5star_reviews.show()"
      ],
      "metadata": {
        "colab": {
          "base_uri": "https://localhost:8080/"
        },
        "id": "-ueR2ronmnjw",
        "outputId": "70ee30b4-575f-4a0c-bade-a58e7fe8318f"
      },
      "execution_count": 67,
      "outputs": [
        {
          "output_type": "stream",
          "name": "stdout",
          "text": [
            "+-------------------------------+\n",
            "|Unpaid_5star_NumOf_Vine_Reviews|\n",
            "+-------------------------------+\n",
            "|                           4444|\n",
            "+-------------------------------+\n",
            "\n"
          ]
        }
      ]
    },
    {
      "cell_type": "code",
      "source": [
        "#continue 5... the percentage of 5-star reviews - unpaid\n",
        "unpaid_vine_reviews_percentage = unpaid_numof_5star_reviews.collect()[0][\"Unpaid_5star_NumOf_Vine_Reviews\"] / unpaid_total_num_of_review.collect()[0][\"Unpaid_Total_NumOf_Vine_Reviews\"] * 100\n",
        "round(unpaid_vine_reviews_percentage,3)"
      ],
      "metadata": {
        "colab": {
          "base_uri": "https://localhost:8080/"
        },
        "id": "rtH25wyAmvFP",
        "outputId": "d8a909c8-98ce-40ba-d00f-ccff27258253"
      },
      "execution_count": 70,
      "outputs": [
        {
          "output_type": "execute_result",
          "data": {
            "text/plain": [
              "57.797"
            ]
          },
          "metadata": {},
          "execution_count": 70
        }
      ]
    }
  ]
}
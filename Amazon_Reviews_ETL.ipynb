{
  "nbformat": 4,
  "nbformat_minor": 0,
  "metadata": {
    "colab": {
      "name": "Amazon_Reviews_ETL.ipynb",
      "provenance": [],
      "collapsed_sections": []
    },
    "kernelspec": {
      "name": "python3",
      "display_name": "Python 3"
    },
    "nteract": {
      "version": "0.12.3"
    },
    "language_info": {
      "name": "python"
    }
  },
  "cells": [
    {
      "cell_type": "code",
      "metadata": {
        "id": "V58rxea0HqSa",
        "colab": {
          "base_uri": "https://localhost:8080/"
        },
        "outputId": "c28b2a94-c4b0-4b42-a098-528330098b0b"
      },
      "source": [
        "import os\n",
        "# Find the latest version of spark 3.0 from http://www.apache.org/dist/spark/ and enter as the spark version\n",
        "# For example:\n",
        "# spark_version = 'spark-3.0.3'\n",
        "spark_version = 'spark-3.0.3'\n",
        "os.environ['SPARK_VERSION']=spark_version\n",
        "\n",
        "# Install Spark and Java\n",
        "!apt-get update\n",
        "!apt-get install openjdk-11-jdk-headless -qq > /dev/null\n",
        "!wget -q http://www.apache.org/dist/spark/$SPARK_VERSION/$SPARK_VERSION-bin-hadoop2.7.tgz\n",
        "!tar xf $SPARK_VERSION-bin-hadoop2.7.tgz\n",
        "!pip install -q findspark\n",
        "\n",
        "# Set Environment Variables\n",
        "import os\n",
        "os.environ[\"JAVA_HOME\"] = \"/usr/lib/jvm/java-11-openjdk-amd64\"\n",
        "os.environ[\"SPARK_HOME\"] = f\"/content/{spark_version}-bin-hadoop2.7\"\n",
        "\n",
        "# Start a SparkSession\n",
        "import findspark\n",
        "findspark.init()"
      ],
      "execution_count": 2,
      "outputs": [
        {
          "output_type": "stream",
          "name": "stdout",
          "text": [
            "\r0% [Working]\r            \rGet:1 https://cloud.r-project.org/bin/linux/ubuntu bionic-cran40/ InRelease [3,626 B]\n",
            "\r0% [Connecting to archive.ubuntu.com] [Connecting to security.ubuntu.com (91.18\r0% [Connecting to archive.ubuntu.com] [Connecting to security.ubuntu.com (91.18\r                                                                               \rIgn:2 https://developer.download.nvidia.com/compute/cuda/repos/ubuntu1804/x86_64  InRelease\n",
            "\r0% [Connecting to archive.ubuntu.com] [Connecting to security.ubuntu.com (91.18\r0% [1 InRelease gpgv 3,626 B] [Connecting to archive.ubuntu.com] [Connecting to\r                                                                               \rIgn:3 https://developer.download.nvidia.com/compute/machine-learning/repos/ubuntu1804/x86_64  InRelease\n",
            "Get:4 https://developer.download.nvidia.com/compute/cuda/repos/ubuntu1804/x86_64  Release [696 B]\n",
            "Hit:5 https://developer.download.nvidia.com/compute/machine-learning/repos/ubuntu1804/x86_64  Release\n",
            "Get:6 https://developer.download.nvidia.com/compute/cuda/repos/ubuntu1804/x86_64  Release.gpg [836 B]\n",
            "Get:7 http://ppa.launchpad.net/c2d4u.team/c2d4u4.0+/ubuntu bionic InRelease [15.9 kB]\n",
            "Get:8 http://security.ubuntu.com/ubuntu bionic-security InRelease [88.7 kB]\n",
            "Get:9 https://cloud.r-project.org/bin/linux/ubuntu bionic-cran40/ Packages [76.8 kB]\n",
            "Hit:10 http://archive.ubuntu.com/ubuntu bionic InRelease\n",
            "Get:12 http://archive.ubuntu.com/ubuntu bionic-updates InRelease [88.7 kB]\n",
            "Hit:13 http://ppa.launchpad.net/cran/libgit2/ubuntu bionic InRelease\n",
            "Get:14 https://developer.download.nvidia.com/compute/cuda/repos/ubuntu1804/x86_64  Packages [931 kB]\n",
            "Hit:15 http://ppa.launchpad.net/deadsnakes/ppa/ubuntu bionic InRelease\n",
            "Get:16 http://archive.ubuntu.com/ubuntu bionic-backports InRelease [74.6 kB]\n",
            "Get:17 http://ppa.launchpad.net/graphics-drivers/ppa/ubuntu bionic InRelease [21.3 kB]\n",
            "Get:18 http://security.ubuntu.com/ubuntu bionic-security/universe amd64 Packages [1,474 kB]\n",
            "Get:19 http://ppa.launchpad.net/c2d4u.team/c2d4u4.0+/ubuntu bionic/main Sources [1,827 kB]\n",
            "Get:20 http://archive.ubuntu.com/ubuntu bionic-updates/main amd64 Packages [3,036 kB]\n",
            "Get:21 http://security.ubuntu.com/ubuntu bionic-security/main amd64 Packages [2,596 kB]\n",
            "Get:22 http://security.ubuntu.com/ubuntu bionic-security/restricted amd64 Packages [806 kB]\n",
            "Get:23 http://archive.ubuntu.com/ubuntu bionic-updates/universe amd64 Packages [2,252 kB]\n",
            "Get:24 http://archive.ubuntu.com/ubuntu bionic-updates/restricted amd64 Packages [840 kB]\n",
            "Get:25 http://ppa.launchpad.net/c2d4u.team/c2d4u4.0+/ubuntu bionic/main amd64 Packages [936 kB]\n",
            "Get:26 http://ppa.launchpad.net/graphics-drivers/ppa/ubuntu bionic/main amd64 Packages [42.8 kB]\n",
            "Fetched 15.1 MB in 4s (3,529 kB/s)\n",
            "Reading package lists... Done\n"
          ]
        }
      ]
    },
    {
      "cell_type": "code",
      "metadata": {
        "id": "_xKwTpATHqSe",
        "colab": {
          "base_uri": "https://localhost:8080/"
        },
        "outputId": "fb770e23-2d03-4de9-926e-41b43b0fb7ca"
      },
      "source": [
        "# Download the Postgres driver that will allow Spark to interact with Postgres.\n",
        "!wget https://jdbc.postgresql.org/download/postgresql-42.2.16.jar"
      ],
      "execution_count": 3,
      "outputs": [
        {
          "output_type": "stream",
          "name": "stdout",
          "text": [
            "--2022-03-07 17:44:47--  https://jdbc.postgresql.org/download/postgresql-42.2.16.jar\n",
            "Resolving jdbc.postgresql.org (jdbc.postgresql.org)... 72.32.157.228, 2001:4800:3e1:1::228\n",
            "Connecting to jdbc.postgresql.org (jdbc.postgresql.org)|72.32.157.228|:443... connected.\n",
            "HTTP request sent, awaiting response... 200 OK\n",
            "Length: 1002883 (979K) [application/java-archive]\n",
            "Saving to: ‘postgresql-42.2.16.jar’\n",
            "\n",
            "postgresql-42.2.16. 100%[===================>] 979.38K  5.83MB/s    in 0.2s    \n",
            "\n",
            "2022-03-07 17:44:47 (5.83 MB/s) - ‘postgresql-42.2.16.jar’ saved [1002883/1002883]\n",
            "\n"
          ]
        }
      ]
    },
    {
      "cell_type": "code",
      "metadata": {
        "id": "MMqDAjVS0KN9"
      },
      "source": [
        "from pyspark.sql import SparkSession\n",
        "spark = SparkSession.builder.appName(\"M16-Amazon-Challenge\").config(\"spark.driver.extraClassPath\",\"/content/postgresql-42.2.16.jar\").getOrCreate()"
      ],
      "execution_count": 4,
      "outputs": []
    },
    {
      "cell_type": "markdown",
      "metadata": {
        "id": "cyBsySGuY-9V"
      },
      "source": [
        "### Load Amazon Data into Spark DataFrame"
      ]
    },
    {
      "cell_type": "code",
      "metadata": {
        "id": "CtCmBhQJY-9Z",
        "colab": {
          "base_uri": "https://localhost:8080/"
        },
        "outputId": "dbf6b80c-cf56-4da3-f3dc-3c5b4025d9bf"
      },
      "source": [
        "from pyspark import SparkFiles\n",
        "url = \"https://s3.amazonaws.com/amazon-reviews-pds/tsv/amazon_reviews_us_Jewelry_v1_00.tsv.gz\"\n",
        "spark.sparkContext.addFile(url)\n",
        "df = spark.read.option(\"encoding\", \"UTF-8\").csv(SparkFiles.get(\"\"), sep=\"\\t\", header=True, inferSchema=True)\n",
        "df.show()"
      ],
      "execution_count": 5,
      "outputs": [
        {
          "output_type": "stream",
          "name": "stdout",
          "text": [
            "+-----------+-----------+--------------+----------+--------------+--------------------+----------------+-----------+-------------+-----------+----+-----------------+--------------------+--------------------+-----------+\n",
            "|marketplace|customer_id|     review_id|product_id|product_parent|       product_title|product_category|star_rating|helpful_votes|total_votes|vine|verified_purchase|     review_headline|         review_body|review_date|\n",
            "+-----------+-----------+--------------+----------+--------------+--------------------+----------------+-----------+-------------+-----------+----+-----------------+--------------------+--------------------+-----------+\n",
            "|         US|   50423057|R135Q3VZ4DQN5N|B00JWXFDMG|     657335467|Everbling Purple ...|         Jewelry|          5|            0|          0|   N|                Y|           Beauties!|so beautiful even...| 2015-08-31|\n",
            "|         US|   11262325|R2N0QQ6R4T7YRY|B00W5T1H9W|      26030170|925 Sterling Silv...|         Jewelry|          5|            0|          0|   N|                N|      Great product.|Great product.. I...| 2015-08-31|\n",
            "|         US|   27541121|R3N5JE5Y4T6W5M|B00M2L6KFY|     697845240|Sterling Silver C...|         Jewelry|          5|            0|          0|   N|                Y|Exactly as pictur...|Exactly as pictur...| 2015-08-31|\n",
            "|         US|    5350721|R2I150CX5IVY9Q|B0006SW2WU|     569859289|Surgical Stainles...|         Jewelry|          5|            0|          0|   N|                Y|          Five Stars|Love it. Fits gre...| 2015-08-31|\n",
            "|         US|   24484424|R1RM9ICOOA9MQ3|B009YPDW70|     332947422|Sterling Silver F...|         Jewelry|          5|            0|          0|   N|                Y|... a Mother's Da...|Got this as a Mot...| 2015-08-31|\n",
            "|         US|     457767|R2J2KMDL10UMSH|B00QGA8XZM|     424804582|CHOOSE YOUR COLOR...|         Jewelry|          5|            0|          0|   N|                Y|          Five Stars|I Love It Make Me...| 2015-08-31|\n",
            "|         US|   31009358|R3R9ZUFA4TB4FQ|B00L0N0E8E|     589441783|Metal Factory 925...|         Jewelry|          5|            0|          0|   N|                Y|          Five Stars|True to size, unique| 2015-08-31|\n",
            "|         US|    7034628|R3UQ8VAQN7R6WL|B00DMWQKWA|     517428445|niceEshop(TM)Clas...|         Jewelry|          5|            0|          0|   N|                Y|          Five Stars|This necklace is ...| 2015-08-31|\n",
            "|         US|   34608636|R1FXZ69C01JNQM|B00THLHAGA|     320313750|Genuine Natural B...|         Jewelry|          5|            0|          0|   N|                Y|          Five Stars|        just perfect| 2015-08-31|\n",
            "|         US|   44972687| RY36LB4OW0FFS|B00UXSEOHY|     589365488|MBOX Expandable A...|         Jewelry|          5|            0|          0|   N|                Y|          Five Stars|           Love it !| 2015-08-31|\n",
            "|         US|   16684508| R6PKS54PC6ZY2|B00XGRYGVS|     217045013|Set of 3 Nose Rin...|         Jewelry|          1|            4|          4|   N|                Y|I had high hopes ...|They didn't even ...| 2015-08-31|\n",
            "|         US|   23493178|R1LYSAH0IECVWB|B00AJ2VU8A|     972853757|3-row White A Gra...|         Jewelry|          5|            0|          0|   N|                Y|This is a real ni...|This is a real ni...| 2015-08-31|\n",
            "|         US|     108294|R1UN0IZI3XQ3E2|B00LE5Y100|     979375701|KONOV Mens Stainl...|         Jewelry|          5|            2|          3|   N|                Y|             AMAZING|This is a very co...| 2015-08-31|\n",
            "|         US|   25810742| RIKDXD8QGL99S|B013E0AOH6|     619592796|TEMEGO Jewelry Me...|         Jewelry|          5|            1|          1|   N|                Y|          Five Stars|Great quality for...| 2015-08-31|\n",
            "|         US|   12037665| RUZCQTXZVGUFH|B00XAWUP96|     783863439|Royal Blue/White ...|         Jewelry|          4|            1|          1|   N|                Y|A Little Smaller ...|I like the bracel...| 2015-08-31|\n",
            "|         US|   51793466|R35CD4IHO3RP9H|B00WD82F1O|     655270378|10-11mm Baroque F...|         Jewelry|          5|            1|          1|   N|                Y|Pretty and Versatile|This is pretty an...| 2015-08-31|\n",
            "|         US|     127508|R13YD66XC9221U|B00JP4XCSO|     592155747|Sankuwen® Fashion...|         Jewelry|          1|            0|          0|   N|                N|Don't get this li...|Don't get this li...| 2015-08-31|\n",
            "|         US|   38430946| RHWG4JRVDSEYY|B00PZSM384|     622179716|zjskin6688 store ...|         Jewelry|          3|            1|          1|   N|                Y|         Three Stars|Not what I expect...| 2015-08-31|\n",
            "|         US|   33684654|R3SPIKMJ5IWHX8|B00VLMW18K|      36759824|Scheppend Polymer...|         Jewelry|          4|            0|          0|   N|                Y|          Four Stars|Bought these for ...| 2015-08-31|\n",
            "|         US|    5068631| RS19ACU7KWWNE|B00U5LDBB4|     575109200|Horizontal Sidewa...|         Jewelry|          5|            1|          1|   N|                Y|          Five Stars|Pretty, and very ...| 2015-08-31|\n",
            "+-----------+-----------+--------------+----------+--------------+--------------------+----------------+-----------+-------------+-----------+----+-----------------+--------------------+--------------------+-----------+\n",
            "only showing top 20 rows\n",
            "\n"
          ]
        }
      ]
    },
    {
      "cell_type": "code",
      "source": [
        "df.printSchema()"
      ],
      "metadata": {
        "colab": {
          "base_uri": "https://localhost:8080/"
        },
        "id": "xCWfeU_A1WQC",
        "outputId": "7909d46a-636e-4057-b127-c2593acadea6"
      },
      "execution_count": 6,
      "outputs": [
        {
          "output_type": "stream",
          "name": "stdout",
          "text": [
            "root\n",
            " |-- marketplace: string (nullable = true)\n",
            " |-- customer_id: integer (nullable = true)\n",
            " |-- review_id: string (nullable = true)\n",
            " |-- product_id: string (nullable = true)\n",
            " |-- product_parent: integer (nullable = true)\n",
            " |-- product_title: string (nullable = true)\n",
            " |-- product_category: string (nullable = true)\n",
            " |-- star_rating: string (nullable = true)\n",
            " |-- helpful_votes: integer (nullable = true)\n",
            " |-- total_votes: integer (nullable = true)\n",
            " |-- vine: string (nullable = true)\n",
            " |-- verified_purchase: string (nullable = true)\n",
            " |-- review_headline: string (nullable = true)\n",
            " |-- review_body: string (nullable = true)\n",
            " |-- review_date: string (nullable = true)\n",
            "\n"
          ]
        }
      ]
    },
    {
      "cell_type": "code",
      "source": [
        "#remove null data\n",
        "print(df.count())\n",
        "df =df.dropna();\n",
        "print(df.count())"
      ],
      "metadata": {
        "colab": {
          "base_uri": "https://localhost:8080/"
        },
        "id": "mf-ql0Ue716b",
        "outputId": "174edb1a-2648-4c36-aecb-c94e2f3b56f4"
      },
      "execution_count": 38,
      "outputs": [
        {
          "output_type": "stream",
          "name": "stdout",
          "text": [
            "1767753\n",
            "1767394\n"
          ]
        }
      ]
    },
    {
      "cell_type": "markdown",
      "metadata": {
        "id": "2yUSe55VY-9t"
      },
      "source": [
        "### Create DataFrames to match tables"
      ]
    },
    {
      "cell_type": "code",
      "metadata": {
        "id": "C8REmY1aY-9u",
        "colab": {
          "base_uri": "https://localhost:8080/",
          "height": 565
        },
        "outputId": "0247b69f-615f-4d1f-c600-7c1c33ad8ea8"
      },
      "source": [
        "from pyspark.sql.functions import to_date\n",
        "# Read in the Review dataset as a DataFrame\n",
        "#disp as pandas, better reading\n",
        "df.limit(5).toPandas() "
      ],
      "execution_count": 39,
      "outputs": [
        {
          "output_type": "execute_result",
          "data": {
            "text/html": [
              "\n",
              "  <div id=\"df-c799c631-0799-4a8a-90be-fcba4dcbe8c4\">\n",
              "    <div class=\"colab-df-container\">\n",
              "      <div>\n",
              "<style scoped>\n",
              "    .dataframe tbody tr th:only-of-type {\n",
              "        vertical-align: middle;\n",
              "    }\n",
              "\n",
              "    .dataframe tbody tr th {\n",
              "        vertical-align: top;\n",
              "    }\n",
              "\n",
              "    .dataframe thead th {\n",
              "        text-align: right;\n",
              "    }\n",
              "</style>\n",
              "<table border=\"1\" class=\"dataframe\">\n",
              "  <thead>\n",
              "    <tr style=\"text-align: right;\">\n",
              "      <th></th>\n",
              "      <th>marketplace</th>\n",
              "      <th>customer_id</th>\n",
              "      <th>review_id</th>\n",
              "      <th>product_id</th>\n",
              "      <th>product_parent</th>\n",
              "      <th>product_title</th>\n",
              "      <th>product_category</th>\n",
              "      <th>star_rating</th>\n",
              "      <th>helpful_votes</th>\n",
              "      <th>total_votes</th>\n",
              "      <th>vine</th>\n",
              "      <th>verified_purchase</th>\n",
              "      <th>review_headline</th>\n",
              "      <th>review_body</th>\n",
              "      <th>review_date</th>\n",
              "    </tr>\n",
              "  </thead>\n",
              "  <tbody>\n",
              "    <tr>\n",
              "      <th>0</th>\n",
              "      <td>US</td>\n",
              "      <td>50423057</td>\n",
              "      <td>R135Q3VZ4DQN5N</td>\n",
              "      <td>B00JWXFDMG</td>\n",
              "      <td>657335467</td>\n",
              "      <td>Everbling Purple and Clear Briolette Drop Swar...</td>\n",
              "      <td>Jewelry</td>\n",
              "      <td>5</td>\n",
              "      <td>0</td>\n",
              "      <td>0</td>\n",
              "      <td>N</td>\n",
              "      <td>Y</td>\n",
              "      <td>Beauties!</td>\n",
              "      <td>so beautiful even tho clearly not high end ......</td>\n",
              "      <td>2015-08-31</td>\n",
              "    </tr>\n",
              "    <tr>\n",
              "      <th>1</th>\n",
              "      <td>US</td>\n",
              "      <td>11262325</td>\n",
              "      <td>R2N0QQ6R4T7YRY</td>\n",
              "      <td>B00W5T1H9W</td>\n",
              "      <td>26030170</td>\n",
              "      <td>925 Sterling Silver Finish 6ct Simulated Diamo...</td>\n",
              "      <td>Jewelry</td>\n",
              "      <td>5</td>\n",
              "      <td>0</td>\n",
              "      <td>0</td>\n",
              "      <td>N</td>\n",
              "      <td>N</td>\n",
              "      <td>Great product.</td>\n",
              "      <td>Great product.. I got this set for my mother, ...</td>\n",
              "      <td>2015-08-31</td>\n",
              "    </tr>\n",
              "    <tr>\n",
              "      <th>2</th>\n",
              "      <td>US</td>\n",
              "      <td>27541121</td>\n",
              "      <td>R3N5JE5Y4T6W5M</td>\n",
              "      <td>B00M2L6KFY</td>\n",
              "      <td>697845240</td>\n",
              "      <td>Sterling Silver Circle \"Friends Forever\" Infin...</td>\n",
              "      <td>Jewelry</td>\n",
              "      <td>5</td>\n",
              "      <td>0</td>\n",
              "      <td>0</td>\n",
              "      <td>N</td>\n",
              "      <td>Y</td>\n",
              "      <td>Exactly as pictured and my daughter's friend l...</td>\n",
              "      <td>Exactly as pictured and my daughter's friend l...</td>\n",
              "      <td>2015-08-31</td>\n",
              "    </tr>\n",
              "    <tr>\n",
              "      <th>3</th>\n",
              "      <td>US</td>\n",
              "      <td>5350721</td>\n",
              "      <td>R2I150CX5IVY9Q</td>\n",
              "      <td>B0006SW2WU</td>\n",
              "      <td>569859289</td>\n",
              "      <td>Surgical Stainless Steel Domed 9mm Fishbone Ri...</td>\n",
              "      <td>Jewelry</td>\n",
              "      <td>5</td>\n",
              "      <td>0</td>\n",
              "      <td>0</td>\n",
              "      <td>N</td>\n",
              "      <td>Y</td>\n",
              "      <td>Five Stars</td>\n",
              "      <td>Love it. Fits great. Super comfortable and nea...</td>\n",
              "      <td>2015-08-31</td>\n",
              "    </tr>\n",
              "    <tr>\n",
              "      <th>4</th>\n",
              "      <td>US</td>\n",
              "      <td>24484424</td>\n",
              "      <td>R1RM9ICOOA9MQ3</td>\n",
              "      <td>B009YPDW70</td>\n",
              "      <td>332947422</td>\n",
              "      <td>Sterling Silver Family Pendant Necklace, 18\"</td>\n",
              "      <td>Jewelry</td>\n",
              "      <td>5</td>\n",
              "      <td>0</td>\n",
              "      <td>0</td>\n",
              "      <td>N</td>\n",
              "      <td>Y</td>\n",
              "      <td>... a Mother's Day gift for my Mom and she lov...</td>\n",
              "      <td>Got this as a Mother's Day gift for my Mom and...</td>\n",
              "      <td>2015-08-31</td>\n",
              "    </tr>\n",
              "  </tbody>\n",
              "</table>\n",
              "</div>\n",
              "      <button class=\"colab-df-convert\" onclick=\"convertToInteractive('df-c799c631-0799-4a8a-90be-fcba4dcbe8c4')\"\n",
              "              title=\"Convert this dataframe to an interactive table.\"\n",
              "              style=\"display:none;\">\n",
              "        \n",
              "  <svg xmlns=\"http://www.w3.org/2000/svg\" height=\"24px\"viewBox=\"0 0 24 24\"\n",
              "       width=\"24px\">\n",
              "    <path d=\"M0 0h24v24H0V0z\" fill=\"none\"/>\n",
              "    <path d=\"M18.56 5.44l.94 2.06.94-2.06 2.06-.94-2.06-.94-.94-2.06-.94 2.06-2.06.94zm-11 1L8.5 8.5l.94-2.06 2.06-.94-2.06-.94L8.5 2.5l-.94 2.06-2.06.94zm10 10l.94 2.06.94-2.06 2.06-.94-2.06-.94-.94-2.06-.94 2.06-2.06.94z\"/><path d=\"M17.41 7.96l-1.37-1.37c-.4-.4-.92-.59-1.43-.59-.52 0-1.04.2-1.43.59L10.3 9.45l-7.72 7.72c-.78.78-.78 2.05 0 2.83L4 21.41c.39.39.9.59 1.41.59.51 0 1.02-.2 1.41-.59l7.78-7.78 2.81-2.81c.8-.78.8-2.07 0-2.86zM5.41 20L4 18.59l7.72-7.72 1.47 1.35L5.41 20z\"/>\n",
              "  </svg>\n",
              "      </button>\n",
              "      \n",
              "  <style>\n",
              "    .colab-df-container {\n",
              "      display:flex;\n",
              "      flex-wrap:wrap;\n",
              "      gap: 12px;\n",
              "    }\n",
              "\n",
              "    .colab-df-convert {\n",
              "      background-color: #E8F0FE;\n",
              "      border: none;\n",
              "      border-radius: 50%;\n",
              "      cursor: pointer;\n",
              "      display: none;\n",
              "      fill: #1967D2;\n",
              "      height: 32px;\n",
              "      padding: 0 0 0 0;\n",
              "      width: 32px;\n",
              "    }\n",
              "\n",
              "    .colab-df-convert:hover {\n",
              "      background-color: #E2EBFA;\n",
              "      box-shadow: 0px 1px 2px rgba(60, 64, 67, 0.3), 0px 1px 3px 1px rgba(60, 64, 67, 0.15);\n",
              "      fill: #174EA6;\n",
              "    }\n",
              "\n",
              "    [theme=dark] .colab-df-convert {\n",
              "      background-color: #3B4455;\n",
              "      fill: #D2E3FC;\n",
              "    }\n",
              "\n",
              "    [theme=dark] .colab-df-convert:hover {\n",
              "      background-color: #434B5C;\n",
              "      box-shadow: 0px 1px 3px 1px rgba(0, 0, 0, 0.15);\n",
              "      filter: drop-shadow(0px 1px 2px rgba(0, 0, 0, 0.3));\n",
              "      fill: #FFFFFF;\n",
              "    }\n",
              "  </style>\n",
              "\n",
              "      <script>\n",
              "        const buttonEl =\n",
              "          document.querySelector('#df-c799c631-0799-4a8a-90be-fcba4dcbe8c4 button.colab-df-convert');\n",
              "        buttonEl.style.display =\n",
              "          google.colab.kernel.accessAllowed ? 'block' : 'none';\n",
              "\n",
              "        async function convertToInteractive(key) {\n",
              "          const element = document.querySelector('#df-c799c631-0799-4a8a-90be-fcba4dcbe8c4');\n",
              "          const dataTable =\n",
              "            await google.colab.kernel.invokeFunction('convertToInteractive',\n",
              "                                                     [key], {});\n",
              "          if (!dataTable) return;\n",
              "\n",
              "          const docLinkHtml = 'Like what you see? Visit the ' +\n",
              "            '<a target=\"_blank\" href=https://colab.research.google.com/notebooks/data_table.ipynb>data table notebook</a>'\n",
              "            + ' to learn more about interactive tables.';\n",
              "          element.innerHTML = '';\n",
              "          dataTable['output_type'] = 'display_data';\n",
              "          await google.colab.output.renderOutput(dataTable, element);\n",
              "          const docLink = document.createElement('div');\n",
              "          docLink.innerHTML = docLinkHtml;\n",
              "          element.appendChild(docLink);\n",
              "        }\n",
              "      </script>\n",
              "    </div>\n",
              "  </div>\n",
              "  "
            ],
            "text/plain": [
              "  marketplace  customer_id       review_id  product_id  product_parent  \\\n",
              "0          US     50423057  R135Q3VZ4DQN5N  B00JWXFDMG       657335467   \n",
              "1          US     11262325  R2N0QQ6R4T7YRY  B00W5T1H9W        26030170   \n",
              "2          US     27541121  R3N5JE5Y4T6W5M  B00M2L6KFY       697845240   \n",
              "3          US      5350721  R2I150CX5IVY9Q  B0006SW2WU       569859289   \n",
              "4          US     24484424  R1RM9ICOOA9MQ3  B009YPDW70       332947422   \n",
              "\n",
              "                                       product_title product_category  \\\n",
              "0  Everbling Purple and Clear Briolette Drop Swar...          Jewelry   \n",
              "1  925 Sterling Silver Finish 6ct Simulated Diamo...          Jewelry   \n",
              "2  Sterling Silver Circle \"Friends Forever\" Infin...          Jewelry   \n",
              "3  Surgical Stainless Steel Domed 9mm Fishbone Ri...          Jewelry   \n",
              "4       Sterling Silver Family Pendant Necklace, 18\"          Jewelry   \n",
              "\n",
              "  star_rating  helpful_votes  total_votes vine verified_purchase  \\\n",
              "0           5              0            0    N                 Y   \n",
              "1           5              0            0    N                 N   \n",
              "2           5              0            0    N                 Y   \n",
              "3           5              0            0    N                 Y   \n",
              "4           5              0            0    N                 Y   \n",
              "\n",
              "                                     review_headline  \\\n",
              "0                                          Beauties!   \n",
              "1                                     Great product.   \n",
              "2  Exactly as pictured and my daughter's friend l...   \n",
              "3                                         Five Stars   \n",
              "4  ... a Mother's Day gift for my Mom and she lov...   \n",
              "\n",
              "                                         review_body review_date  \n",
              "0  so beautiful even tho clearly not high end ......  2015-08-31  \n",
              "1  Great product.. I got this set for my mother, ...  2015-08-31  \n",
              "2  Exactly as pictured and my daughter's friend l...  2015-08-31  \n",
              "3  Love it. Fits great. Super comfortable and nea...  2015-08-31  \n",
              "4  Got this as a Mother's Day gift for my Mom and...  2015-08-31  "
            ]
          },
          "metadata": {},
          "execution_count": 39
        }
      ]
    },
    {
      "cell_type": "markdown",
      "source": [
        ""
      ],
      "metadata": {
        "id": "MiYdSGvXcpST"
      }
    },
    {
      "cell_type": "code",
      "metadata": {
        "id": "B0TESUDRY-90",
        "colab": {
          "base_uri": "https://localhost:8080/"
        },
        "outputId": "377d9abc-1378-4888-bee5-829320039a76"
      },
      "source": [
        "# Create the customers_table DataFrame\n",
        "customers_df = df.groupby(\"customer_id\").agg({\"customer_id\":\"count\"}).withColumnRenamed(\"count(customer_id)\", \"customer_count\")\n",
        "customers_df.show()"
      ],
      "execution_count": 40,
      "outputs": [
        {
          "output_type": "stream",
          "name": "stdout",
          "text": [
            "+-----------+--------------+\n",
            "|customer_id|customer_count|\n",
            "+-----------+--------------+\n",
            "|   45657423|             1|\n",
            "|   47663761|             1|\n",
            "|   11931196|             1|\n",
            "|   44620216|             1|\n",
            "|    1167081|             1|\n",
            "|   17682867|             1|\n",
            "|   10782454|             1|\n",
            "|   51881951|             1|\n",
            "|    1537684|             1|\n",
            "|   17133428|             5|\n",
            "|     661760|             1|\n",
            "|    9867391|             9|\n",
            "|   31268594|             1|\n",
            "|   48581590|             1|\n",
            "|   32466409|             3|\n",
            "|   38490515|             1|\n",
            "|   41318181|             4|\n",
            "|   18800155|             6|\n",
            "|   46306239|             1|\n",
            "|   28409312|             1|\n",
            "+-----------+--------------+\n",
            "only showing top 20 rows\n",
            "\n"
          ]
        }
      ]
    },
    {
      "cell_type": "code",
      "metadata": {
        "id": "4FwXA6UvY-96",
        "colab": {
          "base_uri": "https://localhost:8080/"
        },
        "outputId": "ae28ba8c-9181-4dbb-b537-cf406858e450"
      },
      "source": [
        "# Create the products_table DataFrame and drop duplicates. \n",
        "# from pyspark.sql import Row\n",
        "products_df=df.select([\"product_id\",\"product_title\"]).drop_duplicates()\n",
        "#product_id has duplicates if you load the review_id table first. therefore check if duplicates exists\n",
        "#also create products_df first before review_id table and also remove duplicates in review_id table for product_id\n",
        "if products_df.count() > products_df.dropDuplicates([\"product_id\",\"product_title\"]).count():\n",
        "    raise ValueError('Data has duplicates')\n",
        "# another way of checking for duplicates on product_id\n",
        "# products_df=df.exceptAll(df.dropDuplicates([\"product_id\",\"product_title\"]))\n",
        "# products_df.show()\n",
        "\n",
        "# from pyspark.sql import Row\n",
        "# products_df = df.dropDuplicates([\"product_id\"]).select(\"product_id\", \"product_title\")\n",
        "products_df.show(truncate=False)"
      ],
      "execution_count": 41,
      "outputs": [
        {
          "output_type": "stream",
          "name": "stdout",
          "text": [
            "+----------+---------------------------------------------------------------------------------------------------------------------------------------+\n",
            "|product_id|product_title                                                                                                                          |\n",
            "+----------+---------------------------------------------------------------------------------------------------------------------------------------+\n",
            "|B00LHJMHVS|FAIRY COUPLE Women's Round Cubic Zirconia with Smaller Cubic Zirconia Ring R474-9                                                      |\n",
            "|B00TPWQ6I4|Chic Alert Medical ID Cam044S75 Simple Strand Chain Medical ID Bracelet 7.5 in. Silver Tone                                            |\n",
            "|B00P837QR4|The Original Roll-on Bracelet- Set of 3- Special Olympics Ghostbusters                                                                 |\n",
            "|B00L280CN4|10pcs 18\" 18 Inch 925 Silver Plated 1.2MM Snake Chain Necklace New                                                                     |\n",
            "|B00KGU5T4Q|KONOV Mens Stainless Steel Ring, Gothic Tribal Skull Band, Blue                                                                        |\n",
            "|B00JHF388K|Sterling Silver with Rose Gold Flash Diamond Mother Child Heart Pendant Necklace (1/6 cttw)                                            |\n",
            "|B00FB05CES|CHOOSE YOUR COLOR Sterling Silver Eternity Ring                                                                                        |\n",
            "|B00D4KUMQ0|INBLUE Men's Stainless Steel Ring Band CZ Silver Tone Black Wedding                                                                    |\n",
            "|B00GTCD2X0|Beautiful Carved Mahogany Obsidian Pendulum Pendant Bead                                                                               |\n",
            "|B00QUHZQP6|Authentic Chamilia Blue Metallic Braided Leather Bracelet - Adjustable 1030-0111                                                       |\n",
            "|B00NJ317T8|Smitco LLC Silver Plated Open Heart Necklace and Earrings Jewelry Sets for Women, Mom or Teen Girls                                    |\n",
            "|B00658M8EC|925 Sterling Silver Cursive Love Ring                                                                                                  |\n",
            "|B00L43PV2Y|Hydia Steel Jewelry Superman Ring Stainless Steel Silver                                                                               |\n",
            "|B00U24CSP4|Platinum-Plated Sterling Silver Swarovski Zirconia Three Stone Ring Set                                                                |\n",
            "|B006OHTHZ2|316L Stainless Steel Eternity CZ Wedding Band Ring 3mm Sz 3-10; Comes With FREE Gift Box                                               |\n",
            "|B00QW72KDA|PiercingJ Pair 12G-5/8\" (2-16mm) Color-electroplating Stainless Steel Screw Tunnels Ear Expander Stretcher Plugs Piercing Gauge, Purple|\n",
            "|B006VN35L6|5mm Stainless Steel Comfort Fit Plain Wedding Band Ring Size 5-13                                                                      |\n",
            "|B00CGID7PY|925 Sterling Silver Bali Inspired Blue Stone Filigree Teardrop Dangle Earrings                                                         |\n",
            "|B00TXHSXWI|Silver Forest Knot Drop Earrings                                                                                                       |\n",
            "|B004Z1EQRS|PammyJ Silvertone Green Turtle Charm Magnetic Clasp Bracelet                                                                           |\n",
            "+----------+---------------------------------------------------------------------------------------------------------------------------------------+\n",
            "only showing top 20 rows\n",
            "\n"
          ]
        }
      ]
    },
    {
      "cell_type": "code",
      "metadata": {
        "id": "MkqyCuNQY-9-",
        "colab": {
          "base_uri": "https://localhost:8080/"
        },
        "outputId": "d4c36608-659d-4e7f-8bee-8845c714b0b5"
      },
      "source": [
        "# Create the review_id_table DataFrame. \n",
        "# make sure to remove duplicates for the product_id because it causes issues in postgre when you have duplicates and trying\n",
        "# to do product_id TEXT PRIMARY KEY NOT NULL UNIQUE will raise errors\n",
        "review_id_df = df.select([\"review_id\", \"customer_id\",\"product_id\",\"product_parent\",to_date(\"review_date\", 'yyyy-MM-dd').alias(\"review_date\")]).drop_duplicates([\"product_id\"])\n",
        "review_id_df.show(truncate=False)\n",
        "# Convert the 'review_date' column to a date datatype with to_date(\"review_date\", 'yyyy-MM-dd').alias(\"review_date\")\n",
        "# review_id_df = df.select([, to_date(\"review_date\", 'yyyy-MM-dd').alias(\"review_date\")])"
      ],
      "execution_count": 44,
      "outputs": [
        {
          "output_type": "stream",
          "name": "stdout",
          "text": [
            "+--------------+-----------+----------+--------------+-----------+\n",
            "|review_id     |customer_id|product_id|product_parent|review_date|\n",
            "+--------------+-----------+----------+--------------+-----------+\n",
            "|R1PJCXWQ5QHC06|1123157    |1438809484|10070796      |2015-01-04 |\n",
            "|R2R7EUX4QKLDHD|35299126   |B00006C7GQ|83537871      |2002-11-23 |\n",
            "|R2X7ED1ZDWOIK0|35018078   |B00006JMZ8|765671386     |2003-12-14 |\n",
            "|R1R5QZXLPZS81O|19221258   |B00007G9BS|563298962     |2007-08-24 |\n",
            "|R3MB647O345KYY|51347326   |B00009EOU4|877548069     |2007-01-11 |\n",
            "|R93K1LVNY6UJR |30396969   |B00009MEOI|942160082     |2007-09-17 |\n",
            "|R277VSAX9A85RS|43193258   |B0000ATBZZ|235028588     |2008-10-04 |\n",
            "|R11U3WAVOMHR27|21879428   |B0000AWSIN|781233860     |2006-02-28 |\n",
            "|R3906683RK03U |12241691   |B0000AWVWC|424558521     |2009-09-07 |\n",
            "|R2TM4HYGGLSMF0|24158652   |B0000AZ14W|491334200     |2009-03-05 |\n",
            "|R2LAI4GYGYIRJX|52801456   |B0000B35EA|679439358     |2006-12-13 |\n",
            "|R1AKHUKCZQLDY6|11115555   |B0000BUX4T|350676754     |2007-03-08 |\n",
            "|R2FXLZJ1ZBLH54|31459389   |B0000D879M|584136051     |2005-11-11 |\n",
            "|R3S42G1CS2FKOU|27960473   |B0000VRX22|946888955     |2013-08-21 |\n",
            "|R1144XZL2FBN04|20409046   |B0000W57JM|109651992     |2013-02-14 |\n",
            "|R39VRA64K0QA5R|40641877   |B0000X7L8Q|281507570     |2006-08-14 |\n",
            "|R2PKLBGGIR9ROM|20040703   |B0000X7LDQ|374864460     |2006-02-09 |\n",
            "|R13R0U9Q5B922 |46007553   |B00012CVVI|689127044     |2007-10-07 |\n",
            "|R3PR82Z5P064IP|41776529   |B00013N06C|463922855     |2012-01-18 |\n",
            "|R2GO8NXTI3YL2T|23296078   |B00014GNEM|212930765     |2004-11-26 |\n",
            "+--------------+-----------+----------+--------------+-----------+\n",
            "only showing top 20 rows\n",
            "\n"
          ]
        }
      ]
    },
    {
      "cell_type": "code",
      "source": [
        "# make sure review_id table has no product_id duplicates\n",
        "if review_id_df.count() > review_id_df.dropDuplicates([\"product_id\"]).count():\n",
        "    raise ValueError('Data has duplicates')"
      ],
      "metadata": {
        "id": "oZLIYHpLnCKV"
      },
      "execution_count": 45,
      "outputs": []
    },
    {
      "cell_type": "code",
      "metadata": {
        "id": "lzMmkdKmY--D",
        "colab": {
          "base_uri": "https://localhost:8080/"
        },
        "outputId": "0722cee2-993c-4e89-e420-b6725fed555a"
      },
      "source": [
        "from typing import cast\n",
        "# Create the vine_table. DataFrame\n",
        "from pyspark.sql.types import IntegerType\n",
        "vine_df = df.select([\"review_id\",\"star_rating\",\"helpful_votes\",\"total_votes\",\"vine\",\"verified_purchase\"])\n",
        "#convert to integer type bec star_rating was a text in df but int in pgAdmin table definition\n",
        "vine_df = vine_df.withColumn(\"star_rating\",vine_df[\"star_rating\"].cast(IntegerType()))\n",
        "vine_df.show(truncate=False)"
      ],
      "execution_count": 46,
      "outputs": [
        {
          "output_type": "stream",
          "name": "stdout",
          "text": [
            "+--------------+-----------+-------------+-----------+----+-----------------+\n",
            "|review_id     |star_rating|helpful_votes|total_votes|vine|verified_purchase|\n",
            "+--------------+-----------+-------------+-----------+----+-----------------+\n",
            "|R135Q3VZ4DQN5N|5          |0            |0          |N   |Y                |\n",
            "|R2N0QQ6R4T7YRY|5          |0            |0          |N   |N                |\n",
            "|R3N5JE5Y4T6W5M|5          |0            |0          |N   |Y                |\n",
            "|R2I150CX5IVY9Q|5          |0            |0          |N   |Y                |\n",
            "|R1RM9ICOOA9MQ3|5          |0            |0          |N   |Y                |\n",
            "|R2J2KMDL10UMSH|5          |0            |0          |N   |Y                |\n",
            "|R3R9ZUFA4TB4FQ|5          |0            |0          |N   |Y                |\n",
            "|R3UQ8VAQN7R6WL|5          |0            |0          |N   |Y                |\n",
            "|R1FXZ69C01JNQM|5          |0            |0          |N   |Y                |\n",
            "|RY36LB4OW0FFS |5          |0            |0          |N   |Y                |\n",
            "|R6PKS54PC6ZY2 |1          |4            |4          |N   |Y                |\n",
            "|R1LYSAH0IECVWB|5          |0            |0          |N   |Y                |\n",
            "|R1UN0IZI3XQ3E2|5          |2            |3          |N   |Y                |\n",
            "|RIKDXD8QGL99S |5          |1            |1          |N   |Y                |\n",
            "|RUZCQTXZVGUFH |4          |1            |1          |N   |Y                |\n",
            "|R35CD4IHO3RP9H|5          |1            |1          |N   |Y                |\n",
            "|R13YD66XC9221U|1          |0            |0          |N   |N                |\n",
            "|RHWG4JRVDSEYY |3          |1            |1          |N   |Y                |\n",
            "|R3SPIKMJ5IWHX8|4          |0            |0          |N   |Y                |\n",
            "|RS19ACU7KWWNE |5          |1            |1          |N   |Y                |\n",
            "+--------------+-----------+-------------+-----------+----+-----------------+\n",
            "only showing top 20 rows\n",
            "\n"
          ]
        }
      ]
    },
    {
      "cell_type": "code",
      "source": [
        "vine_df.printSchema()"
      ],
      "metadata": {
        "colab": {
          "base_uri": "https://localhost:8080/"
        },
        "id": "Yd7mXC3PGeqf",
        "outputId": "3acb4aaa-f2d8-4367-edc0-9f77b49577c9"
      },
      "execution_count": 47,
      "outputs": [
        {
          "output_type": "stream",
          "name": "stdout",
          "text": [
            "root\n",
            " |-- review_id: string (nullable = true)\n",
            " |-- star_rating: integer (nullable = true)\n",
            " |-- helpful_votes: integer (nullable = true)\n",
            " |-- total_votes: integer (nullable = true)\n",
            " |-- vine: string (nullable = true)\n",
            " |-- verified_purchase: string (nullable = true)\n",
            "\n"
          ]
        }
      ]
    },
    {
      "cell_type": "markdown",
      "metadata": {
        "id": "jITZhLkmY--J"
      },
      "source": [
        "### Connect to the AWS RDS instance and write each DataFrame to its table. "
      ]
    },
    {
      "cell_type": "code",
      "metadata": {
        "id": "7jiUvs1aY--L"
      },
      "source": [
        "# Configure settings for RDS\n",
        "mode = \"append\"\n",
        "jdbc_url=\"jdbc:postgresql://mypostgredb.cxnlhanfljb4.us-west-2.rds.amazonaws.com:5432/test\"\n",
        "config = {\"user\":\"root\", \n",
        "          \"password\": \"########\", \n",
        "          \"driver\":\"org.postgresql.Driver\"}"
      ],
      "execution_count": 29,
      "outputs": []
    },
    {
      "cell_type": "code",
      "metadata": {
        "id": "T2zgZ-aKY--Q"
      },
      "source": [
        "# Write review_id_df to table in RDS\n",
        "review_id_df.write.jdbc(url=jdbc_url, table='review_id_table', mode=mode, properties=config)"
      ],
      "execution_count": 48,
      "outputs": []
    },
    {
      "cell_type": "code",
      "metadata": {
        "id": "1m3yzn-LY--U"
      },
      "source": [
        "# Write products_df to table in RDS\n",
        "# about 3 min\n",
        "products_df.write.jdbc(url=jdbc_url, table='products_table', mode=mode, properties=config)"
      ],
      "execution_count": 49,
      "outputs": []
    },
    {
      "cell_type": "code",
      "metadata": {
        "id": "KbXri15fY--Z"
      },
      "source": [
        "# Write customers_df to table in RDS\n",
        "# 5 min 14 s\n",
        "customers_df.write.jdbc(url=jdbc_url, table='customers_table', mode=mode, properties=config)"
      ],
      "execution_count": 50,
      "outputs": []
    },
    {
      "cell_type": "code",
      "metadata": {
        "id": "XdQknSHLY--e"
      },
      "source": [
        "# Write vine_df to table in RDS\n",
        "# 11 minutes\n",
        "vine_df.write.jdbc(url=jdbc_url, table='vine_table', mode=mode, properties=config)"
      ],
      "execution_count": 51,
      "outputs": []
    },
    {
      "cell_type": "code",
      "metadata": {
        "id": "Exuo6ebUsCqW"
      },
      "source": [
        ""
      ],
      "execution_count": null,
      "outputs": []
    }
  ]
}